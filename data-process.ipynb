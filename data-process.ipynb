{
 "cells": [
  {
   "cell_type": "code",
   "execution_count": null,
   "id": "750fe363",
   "metadata": {},
   "outputs": [],
   "source": [
    "import os, pathlib\n",
    "import Ipynb_importer\n",
    "from clac import clac\n",
    "import dask\n",
    "from dask.distributed import Client\n",
    "data_path = pathlib.Path(\"F:/iedata\")\n",
    "files = list(data_path.glob(\"China_1km_prep_*.nc\"))\n",
    "files = sorted(files)\n",
    "os.chdir('C:/Users/***/Desktop/')\n",
    "with open('poslist_left.txt','r') as fp:\n",
    "    poslist = eval(fp.readline())\n",
    "with open('pos_left.txt','r') as fd:\n",
    "    pos = eval(fd.readline())\n",
    "for x,y in zip(poslist,pos):\n",
    "    lat, lon = x[0], x[1]\n",
    "    lat_section, lon_section = y[0], y[1]\n",
    "    try:\n",
    "        clac(lat_section,lon_section, lat, lon, files)\n",
    "    except TypeError:\n",
    "        print('undone!')\n",
    "        continue"
   ]
  },
  {
   "cell_type": "code",
   "execution_count": null,
   "id": "dfd17b87",
   "metadata": {},
   "outputs": [],
   "source": [
    "filename = os.listdir('C:/Users/***/Desktop/500_100/all')\n",
    "for name in tqdm(filename):\n",
    "    df = pd.read_csv('C:/Users/***/Desktop/500_100/all/{}'.format(name))\n",
    "    k = 0\n",
    "    for i in range(21549):\n",
    "        if df.loc[i,'prep']>500:\n",
    "            df.loc[i,'prep'] = df.loc[i,'prep']/100\n",
    "            k = k+1\n",
    "    if k>0:\n",
    "        df.to_csv('C:/Users/***/Desktop/500_100/all_/{}'.format(name))\n",
    "filename = os.listdir('C:/Users/***/Desktop/500_100/all')\n",
    "for name in filename:\n",
    "    df = pd.read_csv('C:/Users/***/Desktop/500_100/all/{}'.format(name))\n",
    "    df['time'] = pd.to_datetime(df['time']) \n",
    "    df = df.set_index('time')\n",
    "    df_ = df['1961-6':'1961-8']\n",
    "    for i in range(1962,2020):\n",
    "        df_ = pd.concat([df_,df['{}-6'.format(i):'{}-8'.format(i)]],axis=0)\n",
    "    df_.to_csv('C:/Users/***/Desktop/500_100/789/{}'.format(name))"
   ]
  },
  {
   "cell_type": "code",
   "execution_count": null,
   "id": "9f136639",
   "metadata": {},
   "outputs": [],
   "source": [
    "import numpy as np\n",
    "import os\n",
    "import matplotlib.pyplot as pl\n",
    "import pandas as pd\n",
    "file_all = os.listdir('C:/Users/***/Desktop/precip_0.25r（7_dis）/DongBei')\n",
    "data = pd.read_csv('C:/Users/***/Desktop/DongBei.csv')\n",
    "R99T = []\n",
    "for file in file_all:\n",
    "    filePath = 'C:/Users/***/Desktop/precip_0.25r（7_dis）/DongBei/{}'.format(file)\n",
    "    df = pd.read_csv(filePath)\n",
    "    g = df['R99T'].sum()\n",
    "    R99T.append(g)\n",
    "mean = np.mean(R99T)\n",
    "std = np.std(R99T)\n",
    "cols = data.columns.values\n",
    "frame = pd.DataFrame(columns=cols) \n",
    "k = 0\n",
    "for i in range(1424):\n",
    "    if R99T[i] > mean + 2*std:\n",
    "        frame.loc[k] = list(data.loc[i])\n",
    "        k = k+1\n",
    "frame.to_csv('C:/Users/***/Desktop/out_2std_all.csv',index=False,sep=',')"
   ]
  },
  {
   "cell_type": "code",
   "execution_count": null,
   "id": "c5df052e",
   "metadata": {},
   "outputs": [],
   "source": [
    "import dask\n",
    "import os\n",
    "from dask.distributed import Client\n",
    "import xarray as xrfile = 'E:/all'\n",
    "files = os.listdir(file)\n",
    "def get_path(file_path):\n",
    "    return file_path\n",
    "def judge(field):\n",
    "    if len(field.time) == 21549:\n",
    "        return True\n",
    "    else:\n",
    "        return False\n",
    "def optmove(cond, path):\n",
    "    if cond == False:\n",
    "        os.remove(file_path)\n",
    "for file_path in files:\n",
    "    file_path = dask.delayed(file_path)\n",
    "    field = dask.delayed(xr.open_dataset)(file_path)\n",
    "    judge = dask.delayed(judge)(field)\n",
    "    dask.delayed(optmove)(judge, file_path)\n",
    "    print('Done!')"
   ]
  }
 ],
 "metadata": {
  "kernelspec": {
   "display_name": "Python 3 (ipykernel)",
   "language": "python",
   "name": "python3"
  },
  "language_info": {
   "codemirror_mode": {
    "name": "ipython",
    "version": 3
   },
   "file_extension": ".py",
   "mimetype": "text/x-python",
   "name": "python",
   "nbconvert_exporter": "python",
   "pygments_lexer": "ipython3",
   "version": "3.9.13"
  }
 },
 "nbformat": 4,
 "nbformat_minor": 5
}
